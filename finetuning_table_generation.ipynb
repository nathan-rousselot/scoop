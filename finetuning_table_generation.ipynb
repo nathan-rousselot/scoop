{
 "cells": [
  {
   "cell_type": "markdown",
   "metadata": {},
   "source": [
    "# Comparing Adam and Scoop on Hyperparameters Optimization vs ASCADv1\n",
    "\n",
    "This notebook is the supplementary material for section 6.2.3 of the paper: \"Scoop: An Optimization Algorithm for Profiling Attacks against Higher-Order Masking\", and in particular, produces the data for Table 2. It imports the results of the hyperparameters optimization for the ASCADv1 dataset with an MLP and a CNN. The results are stored in a database: `ascadv1_finetuning_comparison.db` which is an optuna database. In it, there are 4 entries:\n",
    "- `adam`: the results of the hyperparameters optimization with Adam on the MLP\n",
    "- `scoop`: the results of the hyperparameters optimization with Scoop on the MLP\n",
    "- `adam_cnn1`: the results of the hyperparameters optimization with Adam on the CNN\n",
    "- `scoop_cnn1`: the results of the hyperparameters optimization with Scoop on the CNN\n",
    "\n",
    "Each entry contains the hyperparameters tried, which are the same for both scoop and adam, the reached validation loss as well as training curves. In addition, that is not included to the paper, are the models' distribution by validation losses on MLP and CNN, one can see that Scoop has a better distribution of models with lower validation losses."
   ]
  },
  {
   "cell_type": "code",
   "execution_count": 1,
   "metadata": {},
   "outputs": [
    {
     "name": "stderr",
     "output_type": "stream",
     "text": [
      "c:\\Users\\T0301147\\AppData\\Local\\miniconda3\\envs\\scoop_ches25\\Lib\\site-packages\\tqdm\\auto.py:21: TqdmWarning: IProgress not found. Please update jupyter and ipywidgets. See https://ipywidgets.readthedocs.io/en/stable/user_install.html\n",
      "  from .autonotebook import tqdm as notebook_tqdm\n"
     ]
    }
   ],
   "source": [
    "import numpy as np\n",
    "import optuna\n",
    "import matplotlib.pyplot as plt\n",
    "\n",
    "optuna_db = f\"sqlite:///ascadv1_finetuning_comparison.db\""
   ]
  },
  {
   "cell_type": "markdown",
   "metadata": {},
   "source": [
    "# MLP"
   ]
  },
  {
   "cell_type": "code",
   "execution_count": 2,
   "metadata": {},
   "outputs": [
    {
     "name": "stdout",
     "output_type": "stream",
     "text": [
      "Total duration for Scoop: 0.8178103341666665 hours\n",
      "Cost per epoch: 0.9148729881687406 seconds\n",
      "Success rate for scoop: 0.040983606557377046\n",
      "Mean PI for Scoop: 7.828025824531676 bits, min: 7.6998113178071526, max: 7.948185617961581\n"
     ]
    }
   ],
   "source": [
    "study = optuna.load_study(study_name=\"scoop\", storage=optuna_db)\n",
    "threshold = 7.95\n",
    "nb_success = 0\n",
    "\n",
    "scoop_values = []\n",
    "plateau_lengths = []\n",
    "PIs = []\n",
    "#get total duration\n",
    "total_duration = 0\n",
    "train_time_successful = []\n",
    "#loop for each trial\n",
    "for trial in study.trials:\n",
    "    if trial.value is not None:\n",
    "        if trial.value < 8.1:\n",
    "            scoop_values.append(trial.value)\n",
    "            total_duration += trial.duration.total_seconds()\n",
    "    # get user attributes\n",
    "        nb_of_epochs = len(trial.user_attrs['val_loss'])\n",
    "        duration = trial.duration.total_seconds()\n",
    "        train_time_successful.append(duration/nb_of_epochs)\n",
    "        if trial.value < threshold and nb_of_epochs > 1:\n",
    "            PIs.append(trial.value)\n",
    "            nb_success += 1\n",
    "    \n",
    "\n",
    "\n",
    "x = np.arange(len(scoop_values))\n",
    "scoop_values1 = scoop_values\n",
    "\n",
    "\n",
    "number_of_successful_trials_scoop = nb_success\n",
    "success_rate_scoop = number_of_successful_trials_scoop / len(scoop_values)\n",
    "mean_pi = np.mean(PIs)\n",
    "min_pi = np.min(PIs)\n",
    "max_pi = np.max(PIs)\n",
    "train_time_mean = np.mean(train_time_successful)\n",
    "print(f\"Total duration for Scoop: {total_duration/3600} hours\")\n",
    "print(f\"Cost per epoch: {train_time_mean} seconds\")\n",
    "print(f\"Success rate for scoop: {success_rate_scoop}\")\n",
    "print(f\"Mean PI for Scoop: {mean_pi} bits, min: {min_pi}, max: {max_pi}\")"
   ]
  },
  {
   "cell_type": "code",
   "execution_count": 3,
   "metadata": {},
   "outputs": [
    {
     "name": "stdout",
     "output_type": "stream",
     "text": [
      "Total duration for adam: 0.5129117950000003 hours\n",
      "Cost per epoch: 0.30725438794067583 seconds\n",
      "Success rate for adam: 0.021897810218978103\n",
      "Mean PI for adam: 7.929413340575645 bits, min: 7.922266195690821, max: 7.939815643855503\n"
     ]
    },
    {
     "data": {
      "image/png": "[encoded data removed]",
      "text/plain": [
       "<Figure size 1000x500 with 1 Axes>"
      ]
     },
     "metadata": {},
     "output_type": "display_data"
    }
   ],
   "source": [
    "study = optuna.load_study(study_name=\"adam\", storage=optuna_db)\n",
    "threshold = 7.95\n",
    "\n",
    "scoop_values = []\n",
    "train_time_successful = []\n",
    "val_loss_matrix = []\n",
    "train_loss_matrix = []\n",
    "nb_success = 0\n",
    "\n",
    "\n",
    "PIs = []\n",
    "#loop for each trial\n",
    "total_duration = 0\n",
    "for trial in study.trials:\n",
    "    if trial.value is not None:\n",
    "        if trial.value < 8.1:\n",
    "            total_duration += trial.duration.total_seconds()\n",
    "            scoop_values.append(trial.value)\n",
    "    # get user attributes            \n",
    "        nb_of_epochs = len(trial.user_attrs['val_loss'])\n",
    "        duration = trial.duration.total_seconds()\n",
    "        train_time_successful.append(duration/nb_of_epochs)\n",
    "        if trial.value < threshold and nb_of_epochs > 1:\n",
    "            PIs.append(trial.value)\n",
    "            val_loss_matrix.append(trial.user_attrs['val_loss'])\n",
    "            train_loss_matrix.append(trial.user_attrs['train_loss'])\n",
    "            nb_success += 1\n",
    "\n",
    "\n",
    "\n",
    "\n",
    "x = np.arange(len(scoop_values))\n",
    "\n",
    "bins = np.linspace(7.6, 8.1, 50)\n",
    "\n",
    "plt.figure(figsize=(10, 5))\n",
    "subfig = plt.subplot(121)\n",
    "subfig.hist(scoop_values1, bins=bins, alpha=0.5, label=\"Scoop\")\n",
    "subfig.hist(scoop_values, bins=bins, alpha=0.5, label=\"Adam\")\n",
    "subfig.set_title(\"PI distribution\")\n",
    "plt.axvline(x=7.78, color='red', linestyle='--', label=\"SOTA\")\n",
    "plt.yscale('log')\n",
    "# fill the area from ]8:+inf[\n",
    "subfig.fill_between([7.95, 8.1], 0, 1000, color='red', alpha=0.1, label=\"Unsuccessful Attack\")\n",
    "subfig.legend()\n",
    "\n",
    "number_of_successful_trials_scoop = nb_success\n",
    "success_rate_scoop = number_of_successful_trials_scoop / len(scoop_values)\n",
    "mean_pi = np.mean(PIs)\n",
    "min_pi = np.min(PIs)\n",
    "max_pi = np.max(PIs)\n",
    "train_time_mean = np.mean(train_time_successful)\n",
    "\n",
    "print(f\"Total duration for adam: {total_duration/3600} hours\")\n",
    "print(f\"Cost per epoch: {train_time_mean} seconds\")\n",
    "print(f\"Success rate for adam: {success_rate_scoop}\")\n",
    "print(f\"Mean PI for adam: {mean_pi} bits, min: {min_pi}, max: {max_pi}\")"
   ]
  },
  {
   "cell_type": "markdown",
   "metadata": {},
   "source": [
    "# CNN"
   ]
  },
  {
   "cell_type": "code",
   "execution_count": 4,
   "metadata": {},
   "outputs": [
    {
     "name": "stdout",
     "output_type": "stream",
     "text": [
      "Total duration for scoop: 2.997689555000001 hours\n",
      "Cost per epoch: 3.7447447634806315 seconds\n",
      "Success rate for scoop: 0.15384615384615385\n",
      "Mean PI for scoop: 7.862333719389786 bits, min: 7.762454944320872, max: 7.937845011425626\n"
     ]
    }
   ],
   "source": [
    "study = optuna.load_study(study_name=\"scoop_cnn1\", storage=optuna_db)\n",
    "threshold = 7.95\n",
    "\n",
    "scoop_values = []\n",
    "train_time_successful = []\n",
    "train_time_successful = []\n",
    "val_loss_matrix = []\n",
    "train_loss_matrix = []\n",
    "nb_success = 0\n",
    "idx = []\n",
    "\n",
    "\n",
    "PIs = []\n",
    "#loop for each trial\n",
    "total_duration = 0\n",
    "for trial in study.trials:\n",
    "    if trial.value is not None:\n",
    "        if trial.value < 8.1:\n",
    "            scoop_values.append(trial.value)\n",
    "            total_duration += trial.duration.total_seconds()\n",
    "        nb_of_epochs = len(trial.user_attrs['val_loss'])\n",
    "        duration = trial.duration.total_seconds()\n",
    "        train_time_successful.append(duration/nb_of_epochs)\n",
    "        if trial.value < threshold and nb_of_epochs > 1:\n",
    "            PIs.append(trial.value)\n",
    "            val_loss_matrix.append(trial.user_attrs['val_loss'])\n",
    "            train_loss_matrix.append(trial.user_attrs['train_loss'])\n",
    "            nb_success += 1\n",
    "            idx.append(trial.number)\n",
    "\n",
    "x = np.arange(len(scoop_values))\n",
    "scoop_values1 = scoop_values\n",
    "\n",
    "number_of_successful_trials_scoop = nb_success\n",
    "success_rate_scoop = number_of_successful_trials_scoop / len(scoop_values)\n",
    "mean_pi = np.mean(PIs)\n",
    "min_pi = np.min(PIs)\n",
    "max_pi = np.max(PIs)\n",
    "train_time_mean = np.mean(train_time_successful)\n",
    "\n",
    "print(f\"Total duration for scoop: {total_duration/3600} hours\")\n",
    "print(f\"Cost per epoch: {train_time_mean} seconds\")\n",
    "print(f\"Success rate for scoop: {success_rate_scoop}\")\n",
    "print(f\"Mean PI for scoop: {mean_pi} bits, min: {min_pi}, max: {max_pi}\")"
   ]
  },
  {
   "cell_type": "code",
   "execution_count": 5,
   "metadata": {},
   "outputs": [
    {
     "name": "stdout",
     "output_type": "stream",
     "text": [
      "Total duration for adam: 4.185524998333333 hours\n",
      "Cost per epoch: 3.1659977502402734 seconds\n",
      "Success rate for adam: 0.07792207792207792\n",
      "Mean PI for adam: 7.860493753214059 bits, min: 7.800514224228586, max: 7.92415531703404\n"
     ]
    },
    {
     "data": {
      "image/png": "[encoded data removed]",
      "text/plain": [
       "<Figure size 1000x500 with 1 Axes>"
      ]
     },
     "metadata": {},
     "output_type": "display_data"
    }
   ],
   "source": [
    "study = optuna.load_study(study_name=\"adam_cnn1\", storage=optuna_db)\n",
    "threshold = 7.95\n",
    "\n",
    "scoop_values = []\n",
    "train_time_successful = []\n",
    "scoop_values = []\n",
    "train_time_successful = []\n",
    "val_loss_matrix = []\n",
    "train_loss_matrix = []\n",
    "nb_success = 0\n",
    "idx = []\n",
    "PIs = []\n",
    "#loop for each trial\n",
    "total_duration = 0\n",
    "for trial in study.trials:\n",
    "    if trial.value is not None:\n",
    "        if trial.value < 8.1:\n",
    "            scoop_values.append(trial.value)\n",
    "            total_duration += trial.duration.total_seconds()\n",
    "    # get user attributes\n",
    "        nb_of_epochs = len(trial.user_attrs['val_loss'])\n",
    "        duration = trial.duration.total_seconds()\n",
    "        train_time_successful.append(duration/nb_of_epochs)\n",
    "        if trial.value < threshold and nb_of_epochs > 1:\n",
    "            PIs.append(trial.value)\n",
    "            val_loss_matrix.append(trial.user_attrs['val_loss'])\n",
    "            train_loss_matrix.append(trial.user_attrs['train_loss'])\n",
    "            nb_success += 1\n",
    "            idx.append(trial.number)\n",
    "\n",
    "bins = np.linspace(7.6, 8.1, 50)\n",
    "\n",
    "plt.figure(figsize=(10, 5))\n",
    "subfig = plt.subplot(121)\n",
    "subfig.hist(scoop_values1, bins=bins, alpha=0.5, label=\"Scoop\")\n",
    "subfig.hist(scoop_values, bins=bins, alpha=0.5, label=\"Adam\")\n",
    "subfig.set_title(\"PI distribution\")\n",
    "plt.axvline(x=7.78, color='red', linestyle='--', label=\"SOTA\")\n",
    "plt.yscale('log')\n",
    "# fill the area from ]8:+inf[\n",
    "subfig.fill_between([7.95, 8.1], 0, 1000, color='red', alpha=0.1, label=\"Unsuccessful Attack\")\n",
    "subfig.legend()\n",
    "\n",
    "\n",
    "number_of_successful_trials_scoop = nb_success\n",
    "success_rate_scoop = number_of_successful_trials_scoop / len(scoop_values)\n",
    "mean_pi = np.mean(PIs)\n",
    "min_pi = np.min(PIs)\n",
    "max_pi = np.max(PIs)\n",
    "train_time_mean = np.mean(train_time_successful)\n",
    "\n",
    "print(f\"Total duration for adam: {total_duration/3600} hours\")\n",
    "print(f\"Cost per epoch: {train_time_mean} seconds\")\n",
    "print(f\"Success rate for adam: {success_rate_scoop}\")\n",
    "print(f\"Mean PI for adam: {mean_pi} bits, min: {min_pi}, max: {max_pi}\")"
   ]
  },
  {
   "cell_type": "code",
   "execution_count": null,
   "metadata": {},
   "outputs": [],
   "source": []
  }
 ],
 "metadata": {
  "kernelspec": {
   "display_name": "scoop_ches25",
   "language": "python",
   "name": "python3"
  },
  "language_info": {
   "codemirror_mode": {
    "name": "ipython",
    "version": 3
   },
   "file_extension": ".py",
   "mimetype": "text/x-python",
   "name": "python",
   "nbconvert_exporter": "python",
   "pygments_lexer": "ipython3",
   "version": "3.11.10"
  }
 },
 "nbformat": 4,
 "nbformat_minor": 2
}
